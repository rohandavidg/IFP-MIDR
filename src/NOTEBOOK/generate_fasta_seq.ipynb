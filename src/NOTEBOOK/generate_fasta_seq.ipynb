{
 "cells": [
  {
   "cell_type": "code",
   "execution_count": 3,
   "id": "db6b4ad3-e407-46fd-af9e-00dcc013e8e2",
   "metadata": {},
   "outputs": [
    {
     "ename": "ModuleNotFoundError",
     "evalue": "No module named 'pysam'",
     "output_type": "error",
     "traceback": [
      "\u001b[0;31m---------------------------------------------------------------------------\u001b[0m",
      "\u001b[0;31mModuleNotFoundError\u001b[0m                       Traceback (most recent call last)",
      "Cell \u001b[0;32mIn[3], line 1\u001b[0m\n\u001b[0;32m----> 1\u001b[0m \u001b[38;5;28;01mfrom\u001b[39;00m \u001b[38;5;21;01mpysam\u001b[39;00m \u001b[38;5;28;01mimport\u001b[39;00m FastaFile\n",
      "\u001b[0;31mModuleNotFoundError\u001b[0m: No module named 'pysam'"
     ]
    }
   ],
   "source": [
    "from pysam import FastaFile"
   ]
  },
  {
   "cell_type": "code",
   "execution_count": 2,
   "id": "ea64df94-117a-4c01-a218-bdc8dbf6f640",
   "metadata": {},
   "outputs": [],
   "source": [
    "class get_seq(object):\n",
    "    def __init__(self, seq, ref, alt, index):\n",
    "        self.seq =  seq\n",
    "        self.size = len(self.seq)\n",
    "        self.index = int(index) -1 \n",
    "        self.ref =  ref\n",
    "        self.alt = alt\n",
    "        self.ref_size = len(self.ref)\n",
    "        \n",
    "    def __iter__(self):\n",
    "        return self\n",
    "\n",
    "    def get_ref(self):\n",
    "        ref_index = self.index + self.ref_size\n",
    "        str_ref = self.seq[self.index:ref_index]\n",
    "        if str(str_ref) == str(self.ref):\n",
    "            return True\n",
    "        else:\n",
    "            print(\"Warning: fasta sequence base {0} does not match the input {1} for seq {2} for index {3}\".format(str_ref, \n",
    "                                                                                                          self.ref,\n",
    "                                                                                                         self.seq, self.index))\n",
    "\n",
    "    def generate_mutant(self):\n",
    "        check_ref = self.get_ref()\n",
    "        mut_seq = str(self.seq[:self.index]) + str(self.alt) + str(self.seq[self.index + 1:])\n",
    "        return mut_seq\n",
    "\n",
    "    def generate_del(self):\n",
    "        mut_seq =  str(self.seq[:self.index + 1]) + str(self.seq[self.index + self.ref_size :])\n",
    "        return mut_seq"
   ]
  },
  {
   "cell_type": "code",
   "execution_count": null,
   "id": "0c258f4a-167d-40e1-881c-f55e93e4a414",
   "metadata": {},
   "outputs": [],
   "source": []
  }
 ],
 "metadata": {
  "kernelspec": {
   "display_name": "Python 3 (ipykernel)",
   "language": "python",
   "name": "python3"
  },
  "language_info": {
   "codemirror_mode": {
    "name": "ipython",
    "version": 3
   },
   "file_extension": ".py",
   "mimetype": "text/x-python",
   "name": "python",
   "nbconvert_exporter": "python",
   "pygments_lexer": "ipython3",
   "version": "3.10.13"
  }
 },
 "nbformat": 4,
 "nbformat_minor": 5
}
